{
 "cells": [
  {
   "cell_type": "code",
   "execution_count": 27,
   "metadata": {},
   "outputs": [],
   "source": [
    "# Import necessary libraries\n",
    "\n",
    "import SimpleITK as sitk\n",
    "import os\n",
    "import time\n",
    "import matplotlib.pyplot as plt\n",
    "from ipywidgets import interact, fixed\n",
    "from IPython.display import clear_output\n",
    "from tqdm import tqdm\n",
    "%matplotlib inline"
   ]
  },
  {
   "cell_type": "code",
   "execution_count": 28,
   "metadata": {},
   "outputs": [],
   "source": [
    "# Input zone hardcoded variables\n",
    "\n",
    "ref_frame            =         '25'\n",
    "subject_ID           =         'HC002 retest'\n",
    "tof_mra_path         =          os.path.join('/Volumes/p_Epilepsy/Andy playground/'+subject_ID+'/Processed data/PANDA-Analysis-Ref-26/TOF/TOF_MRA.nii')\n",
    "t1_mr_path           =          os.path.join('/Volumes/p_Epilepsy/Andy playground/'+subject_ID+'/Processed data/PANDA-Analysis-Ref-26/T1-MR/T1_MR.nii')\n",
    "brain_hres_path      =          os.path.join('/Volumes/p_Epilepsy/Andy playground/'+subject_ID+'/Processed data/MoCo/Nifti working folder/T1_MR/c1T1_MR.nii')\n",
    "mask_hres_path       =          os.path.join('/Volumes/p_Epilepsy/Andy playground/'+subject_ID+'/Processed data/PANDA-Analysis-Ref-26/MR-masks/Native_MR_mask.nii')\n",
    "tfm_mr_mask_path     =          os.path.join('/Volumes/p_Epilepsy/Andy playground/'+subject_ID+'/Processed data/PANDA-Analysis-Ref-26/MR-masks')\n",
    "tfm_brain_mask_path  =          os.path.join('/Volumes/p_Epilepsy/Andy playground/'+subject_ID+'/Processed data/PANDA-Analysis-Ref-26/Brain-masks')\n",
    "moving_img_path      =          os.path.join('/Volumes/p_Epilepsy/Andy playground/'+subject_ID+'/Processed data/PANDA-JNM/PET-navigators/PANDA-'+ref_frame+'.nii')\n",
    "moving_mask_path     =          os.path.join('/Volumes/p_Epilepsy/Andy playground/'+subject_ID+'/Processed data/PANDA-Analysis-Ref-26/MR-masks/MR-mask-'+ref_frame+'.nii')\n",
    "moving_brain_path    =          os.path.join('/Volumes/p_Epilepsy/Andy playground/'+subject_ID+'/Processed data/PANDA-Analysis-Ref-26/Brain-masks/Brain-'+ref_frame+'.nii')\n",
    "navigator_path       =          os.path.join('/Volumes/p_Epilepsy/Andy playground/'+subject_ID+'/Processed data/PANDA-JNM/PET-navigators/')"
   ]
  },
  {
   "cell_type": "code",
   "execution_count": 29,
   "metadata": {},
   "outputs": [],
   "source": [
    "# Utility functions borrowed from Simple ITK's notebook\n",
    "\n",
    "from ipywidgets import interact, fixed\n",
    "from IPython.display import clear_output\n",
    "\n",
    "# Callback invoked by the interact IPython method for scrolling through the image stacks of\n",
    "# the two images (moving and fixed).\n",
    "def display_images(fixed_image_z, moving_image_z, fixed_npa, moving_npa):\n",
    "    # Create a figure with two subplots and the specified size.\n",
    "    plt.subplots(1,2,figsize=(10,8))\n",
    "    \n",
    "    # Draw the fixed image in the first subplot.\n",
    "    plt.subplot(1,2,1)\n",
    "    plt.imshow(fixed_npa[fixed_image_z,:,:],cmap=plt.cm.Greys_r);\n",
    "    plt.title('fixed image')\n",
    "    plt.axis('off')\n",
    "    \n",
    "    # Draw the moving image in the second subplot.\n",
    "    plt.subplot(1,2,2)\n",
    "    plt.imshow(moving_npa[moving_image_z,:,:],cmap=plt.cm.Greys_r);\n",
    "    plt.title('moving image')\n",
    "    plt.axis('off')\n",
    "    \n",
    "    plt.show()\n",
    "\n",
    "# Callback invoked by the IPython interact method for scrolling and modifying the alpha blending\n",
    "# of an image stack of two images that occupy the same physical space. \n",
    "def display_images_with_alpha(image_z, alpha, fixed, moving):\n",
    "    img = (1.0 - alpha)*fixed[:,:,image_z] + alpha*moving[:,:,image_z] \n",
    "    plt.imshow(sitk.GetArrayViewFromImage(img),cmap=plt.cm.Greys_r);\n",
    "    plt.axis('off')\n",
    "    plt.show()\n",
    "    \n",
    "# Callback invoked when the StartEvent happens, sets up our new data.\n",
    "def start_plot():\n",
    "    global metric_values, multires_iterations\n",
    "    \n",
    "    metric_values = []\n",
    "    multires_iterations = []\n",
    "\n",
    "# Callback invoked when the EndEvent happens, do cleanup of data and figure.\n",
    "def end_plot():\n",
    "    global metric_values, multires_iterations\n",
    "    \n",
    "    del metric_values\n",
    "    del multires_iterations\n",
    "    # Close figure, we don't want to get a duplicate of the plot latter on.\n",
    "    plt.close()\n",
    "\n",
    "# Callback invoked when the IterationEvent happens, update our data and display new figure.\n",
    "def plot_values(registration_method):\n",
    "    global metric_values, multires_iterations\n",
    "    \n",
    "    metric_values.append(registration_method.GetMetricValue())                                       \n",
    "    # Clear the output area (wait=True, to reduce flickering), and plot current data\n",
    "    clear_output(wait=True)\n",
    "    # Plot the similarity metric values\n",
    "    plt.plot(metric_values, 'r')\n",
    "    plt.plot(multires_iterations, [metric_values[index] for index in multires_iterations], 'b*')\n",
    "    plt.xlabel('Iteration Number',fontsize=12)\n",
    "    plt.ylabel('Metric Value',fontsize=12)\n",
    "    plt.show()\n",
    "    \n",
    "# Callback invoked when the sitkMultiResolutionIterationEvent happens, update the index into the \n",
    "# metric_values list. \n",
    "def update_multires_iterations():\n",
    "    global metric_values, multires_iterations\n",
    "    multires_iterations.append(len(metric_values))\n",
    "    "
   ]
  },
  {
   "cell_type": "code",
   "execution_count": 30,
   "metadata": {},
   "outputs": [
    {
     "data": {
      "text/plain": [
       "0"
      ]
     },
     "execution_count": 30,
     "metadata": {},
     "output_type": "execute_result"
    }
   ],
   "source": [
    "# Registration module\n",
    "\n",
    "registration_method = sitk.ImageRegistrationMethod()\n",
    "\n",
    "# Similarity metric settings.\n",
    "registration_method.SetMetricAsMattesMutualInformation(numberOfHistogramBins=100)\n",
    "registration_method.SetMetricSamplingStrategy(registration_method.RANDOM)\n",
    "registration_method.SetMetricSamplingPercentage(0.01)\n",
    "\n",
    "registration_method.SetInterpolator(sitk.sitkLinear)\n",
    "\n",
    "# Optimizer settings.\n",
    "registration_method.SetOptimizerAsGradientDescent(learningRate=1.0, numberOfIterations=100, convergenceMinimumValue=1e-6, convergenceWindowSize=10)\n",
    "registration_method.SetOptimizerScalesFromPhysicalShift()\n",
    "\n",
    "# Setup for the multi-resolution framework.            \n",
    "registration_method.SetShrinkFactorsPerLevel(shrinkFactors = [4,2,1])\n",
    "registration_method.SetSmoothingSigmasPerLevel(smoothingSigmas=[2,1,0])\n",
    "registration_method.SmoothingSigmasAreSpecifiedInPhysicalUnitsOn()\n",
    "\n",
    "\n",
    "# Connect all of the observers so that we can perform plotting during registration.\n",
    "registration_method.AddCommand(sitk.sitkStartEvent, start_plot)\n",
    "registration_method.AddCommand(sitk.sitkEndEvent, end_plot)\n",
    "registration_method.AddCommand(sitk.sitkMultiResolutionIterationEvent, update_multires_iterations) \n",
    "registration_method.AddCommand(sitk.sitkIterationEvent, lambda: plot_values(registration_method))\n"
   ]
  },
  {
   "cell_type": "code",
   "execution_count": 31,
   "metadata": {},
   "outputs": [
    {
     "data": {
      "image/png": "[encoded data removed]",
      "text/plain": [
       "<Figure size 432x288 with 1 Axes>"
      ]
     },
     "metadata": {
      "needs_background": "light"
     },
     "output_type": "display_data"
    },
    {
     "name": "stdout",
     "output_type": "stream",
     "text": [
      "Processing /Volumes/p_Epilepsy/Andy playground/HC002 retest/Processed data/PANDA-JNM/PET-navigators/PANDA-37.nii...\n"
     ]
    },
    {
     "name": "stderr",
     "output_type": "stream",
     "text": [
      "\n",
      "100%|██████████| 12/12 [03:37<00:00, 18.16s/it]\u001b[A"
     ]
    }
   ],
   "source": [
    "# Perform registrations with PANDA-25+n.nii as reference, where n=1..12 \n",
    "\n",
    "for x in tqdm(range(26,38)):\n",
    "    time.sleep(0.5)\n",
    "    fixed_img_path        =        os.path.join('/Volumes/p_Epilepsy/Andy playground/'+subject_ID+'/Processed data/PANDA-JNM/PET-navigators/'+'PANDA-'+str(x)+'.nii')\n",
    "    fixed_img             =        sitk.ReadImage(fixed_img_path)\n",
    "    moving_img            =        sitk.ReadImage(moving_img_path)\n",
    "    mr_mask_img           =        sitk.ReadImage(moving_mask_path)\n",
    "    brain_mask_img        =        sitk.ReadImage(moving_brain_path)\n",
    "    final_transform       =        registration_method.Execute(sitk.Cast(fixed_img, sitk.sitkFloat32),sitk.Cast(moving_img, sitk.sitkFloat32))\n",
    "    moving_resampled      =        sitk.Resample(moving_img, fixed_img, final_transform, sitk.sitkLinear, 0.0, moving_img.GetPixelID())\n",
    "    mr_mask_resampled     =        sitk.Resample(mr_mask_img,fixed_img,final_transform,sitk.sitkNearestNeighbor,0.0,mr_mask_img.GetPixelID())\n",
    "    brain_mask_resampled  =        sitk.Resample(brain_mask_img,fixed_img,final_transform,sitk.sitkNearestNeighbor,0.0,brain_mask_img.GetPixelID())\n",
    "    tfm_panda_file        =        'PANDA_'+ref_frame+'_'+str(x)+'.nii'\n",
    "    tfm_mr_mask_file      =        'MR-mask-'+str(x)+'.nii'\n",
    "    tfm_brain_mask_file   =        'Brain-'+str(x)+'.nii'\n",
    "    tfm_file              =        ref_frame+'->'+str(x)+'.tfm'\n",
    "    print('Processing '+ fixed_img_path + '...')\n",
    "    sitk.WriteImage(moving_resampled, os.path.join(navigator_path, tfm_panda_file))\n",
    "    sitk.WriteImage(mr_mask_resampled,os.path.join(tfm_mr_mask_path,tfm_mr_mask_file))\n",
    "    sitk.WriteImage(brain_mask_resampled,os.path.join(tfm_brain_mask_path,tfm_brain_mask_file))\n",
    "    sitk.WriteTransform(final_transform, os.path.join(tfm_mr_mask_path, '25->26.tfm'))"
   ]
  },
  {
   "cell_type": "code",
   "execution_count": null,
   "metadata": {},
   "outputs": [],
   "source": []
  }
 ],
 "metadata": {
  "kernelspec": {
   "display_name": "Python 3",
   "language": "python",
   "name": "python3"
  },
  "language_info": {
   "codemirror_mode": {
    "name": "ipython",
    "version": 3
   },
   "file_extension": ".py",
   "mimetype": "text/x-python",
   "name": "python",
   "nbconvert_exporter": "python",
   "pygments_lexer": "ipython3",
   "version": "3.7.3"
  }
 },
 "nbformat": 4,
 "nbformat_minor": 4
}
